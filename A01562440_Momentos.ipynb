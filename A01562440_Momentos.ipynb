{
  "nbformat": 4,
  "nbformat_minor": 0,
  "metadata": {
    "colab": {
      "provenance": [],
      "authorship_tag": "ABX9TyPSz4FqzBbShtSIv6GWQYUT",
      "include_colab_link": true
    },
    "kernelspec": {
      "name": "python3",
      "display_name": "Python 3"
    },
    "language_info": {
      "name": "python"
    }
  },
  "cells": [
    {
      "cell_type": "markdown",
      "metadata": {
        "id": "view-in-github",
        "colab_type": "text"
      },
      "source": [
        "<a href=\"https://colab.research.google.com/github/VictoriaLR01/CICD/blob/main/A01562440_Momentos.ipynb\" target=\"_parent\"><img src=\"https://colab.research.google.com/assets/colab-badge.svg\" alt=\"Open In Colab\"/></a>"
      ]
    },
    {
      "cell_type": "code",
      "execution_count": 1,
      "metadata": {
        "colab": {
          "base_uri": "https://localhost:8080/"
        },
        "id": "MtE5dhnupVRT",
        "outputId": "6f9fb77c-656a-4a76-a359-da51050dcdfe"
      },
      "outputs": [
        {
          "output_type": "stream",
          "name": "stdout",
          "text": [
            "Estadísticas para X:\n",
            "Probabilidades de las distintas observaciones:\n",
            "[[1.  2.  3.  4. ]\n",
            " [0.4 0.3 0.2 0.1]]\n",
            "Momentos estadísticos:\n",
            "Momento 1: 2.0\n",
            "Momento 2: 5.0\n",
            "Varianza: 1.0\n",
            "Momento 3: 14.6\n",
            "Momento 4: 47.0\n",
            "\n",
            "Estadísticas para Y:\n",
            "Probabilidades de las distintas observaciones:\n",
            "[[1.   2.   3.   4.   5.  ]\n",
            " [0.23 0.19 0.28 0.15 0.15]]\n",
            "Momentos estadísticos:\n",
            "Momento 1: 2.8\n",
            "Momento 2: 9.66\n",
            "Varianza: 1.82\n",
            "Momento 3: 37.66\n",
            "Momento 4: 158.1\n"
          ]
        }
      ],
      "source": [
        "import numpy as np\n",
        "\n",
        "def calcular_estadisticas(obs):\n",
        "    # Calcular la probabilidad de las distintas observaciones\n",
        "    unique_obs = np.unique(obs)\n",
        "    probabilities = np.histogram(obs, bins=[*unique_obs, max(unique_obs)+1])[0] / len(obs)\n",
        "\n",
        "    print('Probabilidades de las distintas observaciones:')\n",
        "    print(np.vstack((unique_obs, probabilities)))\n",
        "\n",
        "    # Calcular los momentos estadísticos\n",
        "    n = len(obs)\n",
        "    mean_val = np.mean(obs)\n",
        "    moment1 = mean_val\n",
        "    moment2 = np.mean(np.power(obs, 2))\n",
        "    variance = np.var(obs)\n",
        "    moment3 = np.mean(np.power(obs, 3))\n",
        "    moment4 = np.mean(np.power(obs, 4))\n",
        "\n",
        "    # Mostrar los resultados\n",
        "    print('Momentos estadísticos:')\n",
        "    print(f'Momento 1: {moment1}')\n",
        "    print(f'Momento 2: {moment2}')\n",
        "    print(f'Varianza: {variance}')\n",
        "    print(f'Momento 3: {moment3}')\n",
        "    print(f'Momento 4: {moment4}')\n",
        "\n",
        "# Datos de entrada\n",
        "X = [1,1,2,1,3,4,2,1,3,2]\n",
        "Y = [4,2,2,2,1,2,1,2,4,3,3,3,1,3,3,4,3,3,1,4,5,5,2,1,5,1,4,2,5,3,2,5,3,1,5,3,2,3,2,4,3,3,2,3,1,3,1,3,5,2,1,1,5,5,5,2,5,2,1,4,5,3,3,1,1,3,2,1,4,1,4,3,3,3,5,4,1,5,4,1,2,2,4,1,3,1,2,3,1,3,4,2,3,5,4,1,3,1,3,4]\n",
        "\n",
        "# Calcular estadísticas para los datos X e Y\n",
        "print('Estadísticas para X:')\n",
        "calcular_estadisticas(X)\n",
        "print('\\nEstadísticas para Y:')\n",
        "calcular_estadisticas(Y)\n"
      ]
    }
  ]
}